{
 "cells": [
  {
   "cell_type": "code",
   "execution_count": 29,
   "metadata": {},
   "outputs": [
    {
     "name": "stdout",
     "output_type": "stream",
     "text": [
      "(5572, 3)\n"
     ]
    },
    {
     "data": {
      "text/html": [
       "<div>\n",
       "<style scoped>\n",
       "    .dataframe tbody tr th:only-of-type {\n",
       "        vertical-align: middle;\n",
       "    }\n",
       "\n",
       "    .dataframe tbody tr th {\n",
       "        vertical-align: top;\n",
       "    }\n",
       "\n",
       "    .dataframe thead th {\n",
       "        text-align: right;\n",
       "    }\n",
       "</style>\n",
       "<table border=\"1\" class=\"dataframe\">\n",
       "  <thead>\n",
       "    <tr style=\"text-align: right;\">\n",
       "      <th></th>\n",
       "      <th>Label</th>\n",
       "      <th>SMS</th>\n",
       "      <th>Length</th>\n",
       "    </tr>\n",
       "  </thead>\n",
       "  <tbody>\n",
       "    <tr>\n",
       "      <th>0</th>\n",
       "      <td>ham</td>\n",
       "      <td>Go until jurong point, crazy.. Available only ...</td>\n",
       "      <td>111</td>\n",
       "    </tr>\n",
       "    <tr>\n",
       "      <th>1</th>\n",
       "      <td>ham</td>\n",
       "      <td>Ok lar... Joking wif u oni...</td>\n",
       "      <td>29</td>\n",
       "    </tr>\n",
       "    <tr>\n",
       "      <th>2</th>\n",
       "      <td>spam</td>\n",
       "      <td>Free entry in 2 a wkly comp to win FA Cup fina...</td>\n",
       "      <td>155</td>\n",
       "    </tr>\n",
       "    <tr>\n",
       "      <th>3</th>\n",
       "      <td>ham</td>\n",
       "      <td>U dun say so early hor... U c already then say...</td>\n",
       "      <td>49</td>\n",
       "    </tr>\n",
       "    <tr>\n",
       "      <th>4</th>\n",
       "      <td>ham</td>\n",
       "      <td>Nah I don't think he goes to usf, he lives aro...</td>\n",
       "      <td>61</td>\n",
       "    </tr>\n",
       "  </tbody>\n",
       "</table>\n",
       "</div>"
      ],
      "text/plain": [
       "  Label                                                SMS  Length\n",
       "0   ham  Go until jurong point, crazy.. Available only ...     111\n",
       "1   ham                      Ok lar... Joking wif u oni...      29\n",
       "2  spam  Free entry in 2 a wkly comp to win FA Cup fina...     155\n",
       "3   ham  U dun say so early hor... U c already then say...      49\n",
       "4   ham  Nah I don't think he goes to usf, he lives aro...      61"
      ]
     },
     "execution_count": 29,
     "metadata": {},
     "output_type": "execute_result"
    }
   ],
   "source": [
    "import pandas as pd\n",
    "\n",
    "df = pd.read_csv('SMSSpamCollection', sep='\\t', header=None, names=['Label', 'SMS'])\n",
    "df['Length']=df['SMS'].apply(len)\n",
    "print(df.shape)\n",
    "df.head()"
   ]
  },
  {
   "cell_type": "code",
   "execution_count": 30,
   "metadata": {},
   "outputs": [
    {
     "data": {
      "text/plain": [
       "<AxesSubplot: ylabel='Label'>"
      ]
     },
     "execution_count": 30,
     "metadata": {},
     "output_type": "execute_result"
    },
    {
     "data": {
      "image/png": "[encoded data removed]",
      "text/plain": [
       "<Figure size 640x480 with 1 Axes>"
      ]
     },
     "metadata": {},
     "output_type": "display_data"
    }
   ],
   "source": [
    "label_counts = df['Label'].value_counts()\n",
    "label_counts.plot.pie(autopct='%1.1f%%')"
   ]
  },
  {
   "cell_type": "markdown",
   "metadata": {},
   "source": [
    "------------------------------------------------------------------------------------------------------------------"
   ]
  },
  {
   "cell_type": "markdown",
   "metadata": {},
   "source": [
    "<font size=\"6\">Media Campionaria</font>\n",
    "<br>\n",
    "<br>\n",
    " <img title=\"a title\" alt=\"Alt text\" src=\"img/mediaCapionario.png\" width=\"550\" height=\"130\">\n",
    "<br>"
   ]
  },
  {
   "cell_type": "code",
   "execution_count": 31,
   "metadata": {},
   "outputs": [],
   "source": [
    "def MediaCampionaria(df):\n",
    "  totale=0\n",
    "  for index, row in df.iterrows():\n",
    "    mail = row[1]\n",
    "    lunghezza = row[2]\n",
    "    totale = totale + lunghezza\n",
    "  return totale/df.shape[0]"
   ]
  },
  {
   "cell_type": "code",
   "execution_count": 32,
   "metadata": {},
   "outputs": [
    {
     "data": {
      "text/plain": [
       "80.48994974874371"
      ]
     },
     "execution_count": 32,
     "metadata": {},
     "output_type": "execute_result"
    }
   ],
   "source": [
    "MediaCampionaria(df)"
   ]
  },
  {
   "cell_type": "code",
   "execution_count": 33,
   "metadata": {},
   "outputs": [
    {
     "name": "stdout",
     "output_type": "stream",
     "text": [
      "Media campionaria SPAM: 138.6706827309237\n",
      "Media campionaria HAM: 71.48248704663213\n"
     ]
    }
   ],
   "source": [
    "spam_df = df[df['Label'] == 'spam']\n",
    "ham_df = df[df['Label'] == 'ham']\n",
    "\n",
    "print(\"Media campionaria SPAM:\",MediaCampionaria(spam_df))\n",
    "print(\"Media campionaria HAM:\",MediaCampionaria(ham_df))"
   ]
  },
  {
   "cell_type": "markdown",
   "metadata": {},
   "source": [
    "------------------------------------------------------------------------------------------------------------------"
   ]
  },
  {
   "cell_type": "markdown",
   "metadata": {},
   "source": [
    "<font size=\"6\">Mediana Campionaria</font>\n",
    "<br>\n",
    "<br>\n",
    " <img title=\"a title\" alt=\"Alt text\" src=\"img/MediaCampionaria.png\" width=\"550\" height=\"200\">\n",
    "<br>"
   ]
  },
  {
   "cell_type": "code",
   "execution_count": 34,
   "metadata": {},
   "outputs": [],
   "source": [
    "def MedianaCampionaria(df):\n",
    "  #ordina il dataset \n",
    "  df_sorted = df.sort_values(by='Length')\n",
    "  #se pari\n",
    "  if (df_sorted.shape[0]%2==0):\n",
    "    row1 = df_sorted.iloc[int((df_sorted.shape[0]/2))+1]\n",
    "    row2 = df_sorted.iloc[int((df_sorted.shape[0]/2))]\n",
    "    return (row1[2] + row2[2])/2 \n",
    "  else:\n",
    "    row = df_sorted.iloc[int((df_sorted.shape[0]/2)+1)]\n",
    "    return row[2]"
   ]
  },
  {
   "cell_type": "code",
   "execution_count": 35,
   "metadata": {},
   "outputs": [
    {
     "data": {
      "text/plain": [
       "62.0"
      ]
     },
     "execution_count": 35,
     "metadata": {},
     "output_type": "execute_result"
    }
   ],
   "source": [
    "MedianaCampionaria(df)"
   ]
  },
  {
   "cell_type": "code",
   "execution_count": 36,
   "metadata": {},
   "outputs": [
    {
     "name": "stdout",
     "output_type": "stream",
     "text": [
      "Mediana campionaria SPAM: 149\n",
      "Mediana campionaria HAM: 52\n"
     ]
    }
   ],
   "source": [
    "print(\"Mediana campionaria SPAM:\",MedianaCampionaria(spam_df))\n",
    "print(\"Mediana campionaria HAM:\",MedianaCampionaria(ham_df))"
   ]
  },
  {
   "cell_type": "markdown",
   "metadata": {},
   "source": [
    "------------------------------------------------------------------------------------------------------------------"
   ]
  },
  {
   "cell_type": "markdown",
   "metadata": {},
   "source": [
    "<font size=\"6\">Varianza Campionaria</font>\n",
    "<br>\n",
    "<br>\n",
    " <img title=\"a title\" alt=\"Alt text\" src=\"img/varianzaCampionaria.png\" width=\"520\" height=\"120\">\n",
    "<br>\n"
   ]
  },
  {
   "cell_type": "code",
   "execution_count": 37,
   "metadata": {},
   "outputs": [],
   "source": [
    "def VarianzaCampionaria(df):\n",
    "    n = df.shape[0]\n",
    "    mediaCampionaria = MediaCampionaria(df)\n",
    "    totale = 0\n",
    "    for index, row in df.iterrows():\n",
    "        mailLenght = row[2]\n",
    "        totale = totale + (mailLenght - mediaCampionaria)**2\n",
    "    return totale / (n-1)"
   ]
  },
  {
   "cell_type": "code",
   "execution_count": 38,
   "metadata": {},
   "outputs": [
    {
     "data": {
      "text/plain": [
       "3593.152115811508"
      ]
     },
     "execution_count": 38,
     "metadata": {},
     "output_type": "execute_result"
    }
   ],
   "source": [
    "VarianzaCampionaria(df)"
   ]
  },
  {
   "cell_type": "markdown",
   "metadata": {},
   "source": [
    "<font size=\"5\">Confronto Varianza Campionaria tra messaggi ham e spam</font>\n"
   ]
  },
  {
   "cell_type": "code",
   "execution_count": 39,
   "metadata": {},
   "outputs": [
    {
     "name": "stdout",
     "output_type": "stream",
     "text": [
      "Varianza campionaria solo spam 833.6849704447815\n",
      "Varianza campionaria solo ham 3415.309861143342\n"
     ]
    }
   ],
   "source": [
    "\n",
    "\n",
    "print(\"Varianza campionaria solo spam\", VarianzaCampionaria(spam_df))\n",
    "print(\"Varianza campionaria solo ham\",VarianzaCampionaria(ham_df))"
   ]
  },
  {
   "cell_type": "markdown",
   "metadata": {},
   "source": [
    "------------------------------------------------------------------------------------------------------------------"
   ]
  },
  {
   "cell_type": "markdown",
   "metadata": {},
   "source": [
    "------------------------------------------------------------------------------------------------------------------"
   ]
  },
  {
   "cell_type": "markdown",
   "metadata": {},
   "source": [
    "<font size=\"6\">Implementazione modello di ML Naive Bayes</font>\n",
    "<br>\n",
    "<br>\n",
    "\n",
    "Suddivisione in test set e training set"
   ]
  },
  {
   "cell_type": "code",
   "execution_count": 40,
   "metadata": {},
   "outputs": [
    {
     "name": "stdout",
     "output_type": "stream",
     "text": [
      "(4458, 3)\n",
      "(1114, 3)\n"
     ]
    }
   ],
   "source": [
    "# Randomize\n",
    "data_randomized = df.sample(frac=1, random_state=1)\n",
    "training_test_index = round(len(data_randomized) * 0.8)\n",
    "\n",
    "training_set = data_randomized[:training_test_index].reset_index(drop=True)\n",
    "test_set = data_randomized[training_test_index:].reset_index(drop=True)\n",
    "\n",
    "print(training_set.shape)\n",
    "print(test_set.shape)"
   ]
  },
  {
   "cell_type": "markdown",
   "metadata": {},
   "source": [
    "Pulizia dei dati "
   ]
  },
  {
   "cell_type": "code",
   "execution_count": 41,
   "metadata": {},
   "outputs": [
    {
     "name": "stderr",
     "output_type": "stream",
     "text": [
      "C:\\Users\\mikis\\AppData\\Local\\Temp\\ipykernel_34052\\1281021717.py:2: FutureWarning: The default value of regex will change from True to False in a future version.\n",
      "  training_set['SMS'] = training_set['SMS'].str.replace('\\W', ' ') # Removes punctuation\n"
     ]
    },
    {
     "data": {
      "text/html": [
       "<div>\n",
       "<style scoped>\n",
       "    .dataframe tbody tr th:only-of-type {\n",
       "        vertical-align: middle;\n",
       "    }\n",
       "\n",
       "    .dataframe tbody tr th {\n",
       "        vertical-align: top;\n",
       "    }\n",
       "\n",
       "    .dataframe thead th {\n",
       "        text-align: right;\n",
       "    }\n",
       "</style>\n",
       "<table border=\"1\" class=\"dataframe\">\n",
       "  <thead>\n",
       "    <tr style=\"text-align: right;\">\n",
       "      <th></th>\n",
       "      <th>Label</th>\n",
       "      <th>SMS</th>\n",
       "      <th>Length</th>\n",
       "    </tr>\n",
       "  </thead>\n",
       "  <tbody>\n",
       "    <tr>\n",
       "      <th>0</th>\n",
       "      <td>ham</td>\n",
       "      <td>yep  by the pretty sculpture</td>\n",
       "      <td>28</td>\n",
       "    </tr>\n",
       "    <tr>\n",
       "      <th>1</th>\n",
       "      <td>ham</td>\n",
       "      <td>yes  princess  are you going to make me moan</td>\n",
       "      <td>45</td>\n",
       "    </tr>\n",
       "    <tr>\n",
       "      <th>2</th>\n",
       "      <td>ham</td>\n",
       "      <td>welp apparently he retired</td>\n",
       "      <td>26</td>\n",
       "    </tr>\n",
       "  </tbody>\n",
       "</table>\n",
       "</div>"
      ],
      "text/plain": [
       "  Label                                            SMS  Length\n",
       "0   ham                   yep  by the pretty sculpture      28\n",
       "1   ham  yes  princess  are you going to make me moan       45\n",
       "2   ham                     welp apparently he retired      26"
      ]
     },
     "execution_count": 41,
     "metadata": {},
     "output_type": "execute_result"
    }
   ],
   "source": [
    "# After cleaning\n",
    "training_set['SMS'] = training_set['SMS'].str.replace('\\W', ' ') # Removes punctuation\n",
    "training_set['SMS'] = training_set['SMS'].str.lower()\n",
    "training_set.head(3)"
   ]
  },
  {
   "cell_type": "markdown",
   "metadata": {},
   "source": [
    "Per far in modo di conoscere le probabilità P(Ham|mail) e P(Spam|mail)\n",
    "<br>\n",
    "<br>\n",
    " <img title=\"a title\" alt=\"Alt text\" src=\"img/ProbSpamDatoParole.png\" width=\"500\" height=\"180\">\n",
    "<br>\n",
    "<br>\n",
    " e necessario calcolare i parametri necessari per valutare la probabilità P(parola|Spam) oppure P(parola|Ham)\n",
    "<br>\n",
    "<br>\n",
    " <img title=\"a title\" alt=\"Alt text\" src=\"img/ProbParolaDato.png\" width=\"500\" height=\"185\">\n",
    "<br>\n",
    "<br>"
   ]
  },
  {
   "cell_type": "markdown",
   "metadata": {},
   "source": [
    "Calcolo delle probabilita **P(Spam)** e **P(Ham)**"
   ]
  },
  {
   "cell_type": "code",
   "execution_count": 42,
   "metadata": {},
   "outputs": [],
   "source": [
    "# Dividiamo messaggi spam and ham \n",
    "spam_messages = training_set[training_set['Label'] == 'spam']\n",
    "ham_messages = training_set[training_set['Label'] == 'ham']\n",
    "\n",
    "# P(Spam) and P(Ham)\n",
    "#casi favorevoli su casi totali\n",
    "p_spam = len(spam_messages) / len(training_set)\n",
    "p_ham = len(ham_messages) / len(training_set)"
   ]
  },
  {
   "cell_type": "markdown",
   "metadata": {},
   "source": [
    "Calcolo del parametro:\n",
    "<br>\n",
    "**n_vocabulary** = il numero di tutte le parole presenti in tutti i messaggi"
   ]
  },
  {
   "cell_type": "code",
   "execution_count": 43,
   "metadata": {},
   "outputs": [],
   "source": [
    "training_set['SMS'] = training_set['SMS'].str.split()\n",
    "\n",
    "vocabulary = []\n",
    "for sms in training_set['SMS']:\n",
    "   for word in sms:\n",
    "      vocabulary.append(word)\n",
    "\n",
    "vocabulary = list(set(vocabulary))\n",
    "n_vocabulary = len(vocabulary)"
   ]
  },
  {
   "cell_type": "markdown",
   "metadata": {},
   "source": [
    "Calcolo dei parametri:\n",
    "<br>\n",
    "**n_spam** = numero totale di parole nei messaggi spam\n",
    "<br>\n",
    "**n_ham** = numero totale di parole nei messaggi ham "
   ]
  },
  {
   "cell_type": "code",
   "execution_count": 44,
   "metadata": {},
   "outputs": [
    {
     "name": "stdout",
     "output_type": "stream",
     "text": [
      "n_spam 82756\n",
      "n_ham 276690\n"
     ]
    }
   ],
   "source": [
    "# N_Spam\n",
    "n_words_per_spam_message = spam_messages['SMS'].apply(len)\n",
    "n_spam = n_words_per_spam_message.sum()\n",
    "print(\"n_spam\", n_spam)\n",
    "\n",
    "# N_Ham\n",
    "n_words_per_ham_message = ham_messages['SMS'].apply(len)\n",
    "n_ham = n_words_per_ham_message.sum()\n",
    "print(\"n_ham\", n_ham)"
   ]
  },
  {
   "cell_type": "markdown",
   "metadata": {},
   "source": [
    "Definizione dello **smoothing parameter**"
   ]
  },
  {
   "cell_type": "code",
   "execution_count": 45,
   "metadata": {},
   "outputs": [],
   "source": [
    "alpha = 1"
   ]
  },
  {
   "cell_type": "markdown",
   "metadata": {},
   "source": [
    "Infine è necessario calcolare il numero di volte che una certa parola e presente in messaggi spam/ham \n",
    "<br>\n",
    "<br>\n",
    "<img title=\"a title\" src=\"img/ProbParolaDato - Copia.png\" width=\"400\" height=\"170\">"
   ]
  },
  {
   "cell_type": "code",
   "execution_count": 46,
   "metadata": {},
   "outputs": [],
   "source": [
    "#ritorna il numero di istanze della parole \"parolaDaCercare\" nei messaggi spam\n",
    "def NParolaInSpam(parolaDaCercare):\n",
    "    return (spam_messages['SMS'].str.count(parolaDaCercare).sum())\n",
    "\n",
    "#ritorna il numero di istanze della parole \"parolaDaCercare\" nei messaggi ham\n",
    "def NParolaInHam(parolaDaCercare):\n",
    "    return (ham_messages['SMS'].str.count(parolaDaCercare).sum())\n"
   ]
  },
  {
   "cell_type": "markdown",
   "metadata": {},
   "source": [
    "<br>\n",
    "<br>\n",
    "Infine queste due funzioni si occuperanno di implementare le formule viste precedentemente"
   ]
  },
  {
   "cell_type": "code",
   "execution_count": 47,
   "metadata": {},
   "outputs": [],
   "source": [
    "def CalcolaProbParolaDatoSpam(parola):\n",
    "    #numero di volte che incontriamo la parola in messaggi spam\n",
    "    num = NParolaInSpam(parola) + alpha\n",
    "    den = n_spam + (alpha * n_vocabulary)\n",
    "    return num / den\n",
    "\n",
    "def CalcolaProbParolaDatoHam(parola):\n",
    "    #numero di volte che incontriamo la parola in messaggi ham\n",
    "    num = NParolaInHam(parola) + alpha\n",
    "    den = n_ham + (alpha * n_vocabulary)\n",
    "    return num / den"
   ]
  },
  {
   "cell_type": "markdown",
   "metadata": {},
   "source": [
    "Definiamo la funzione **CalcolaProbHamDatoMail** che implementa la formula \n",
    "<br>\n",
    "<br>\n",
    " <img title=\"a title\" alt=\"Alt text\" src=\"img/ProbSpamDatoParole.png\" width=\"500\" height=\"175\">"
   ]
  },
  {
   "cell_type": "code",
   "execution_count": 48,
   "metadata": {},
   "outputs": [],
   "source": [
    "import string\n",
    "def pulisciMail(mail):\n",
    "    mail = mail.translate(str.maketrans('', '', string.punctuation))\n",
    "    mail = mail.lower()\n",
    "    return mail\n",
    "\n",
    "#la funzione prende in input una mail (una stringa) e ritorna P(Ham|mail) ovvero la probabilita che la mail si di tipo ham\n",
    "# setta stampaProb a true se e necessario stampare le probabilita per ogni singola parola \n",
    "\n",
    "def CalcolaProbHamDatoMail(mail,stampaProb):\n",
    "    #pulizia dei dati\n",
    "    mail = pulisciMail(mail)\n",
    "    parole = mail.split()\n",
    "    totale = 1\n",
    "    \n",
    "    for parola in parole:\n",
    "        prob=CalcolaProbParolaDatoHam(parola)\n",
    "        if (stampaProb):\n",
    "            print(f\"P({parola}|Ham) =\",prob)\n",
    "        totale = prob * totale\n",
    "\n",
    "    return totale * p_ham\n",
    "\n",
    "#la funzione prende in input una mail (una stringa) e ritorna P(Spam|mail) ovvero la probabilita che la mail si di tipo spam\n",
    "# setta stampaProb a true se e necessario stampare le probabilita per ogni singola parola \n",
    "def CalcolaProbSpamDatoMail(mail, stampaProb):\n",
    "    #pulizia dei dati\n",
    "    mail = pulisciMail(mail)\n",
    "    parole = mail.split()\n",
    "    totale = 1\n",
    "    \n",
    "    for parola in parole:\n",
    "        prob=CalcolaProbParolaDatoSpam(parola)\n",
    "        if (stampaProb):\n",
    "            print(f\"P({parola}|Spam) =\",prob)\n",
    "        totale = prob * totale\n",
    "\n",
    "    return totale * p_spam"
   ]
  },
  {
   "cell_type": "markdown",
   "metadata": {},
   "source": [
    "<br>\n",
    "<font size=\"6\">Esempio</font>\n",
    "<br>\n",
    "<br>\n",
    "Supponiamo di ricevere la mail:\n",
    "<br>\n",
    "<br>\n",
    "<font size=\"3\" >\"Sounds good, Tom, then see u there\"</font>"
   ]
  },
  {
   "cell_type": "markdown",
   "metadata": {},
   "source": [
    "Calcoliamo la probabilità **P(Ham|mail)**\n",
    "ovvero la probabilità che la mail sia leggittima "
   ]
  },
  {
   "cell_type": "code",
   "execution_count": 49,
   "metadata": {},
   "outputs": [
    {
     "name": "stdout",
     "output_type": "stream",
     "text": [
      "P(sounds|Ham) = 4.218326519564247e-05\n",
      "P(good|Ham) = 0.000745237685123017\n",
      "P(tom|Ham) = 0.0003796493867607822\n",
      "P(then|Ham) = 0.0006538406105324583\n",
      "P(see|Ham) = 0.0005308060870451677\n",
      "P(u|Ham) = 0.02830145567417646\n",
      "P(there|Ham) = 0.0006257184337353633\n",
      "P(Ham|Sounds good, Tom, then see u there) = P(Ham) P(sounds|Ham) P(good|Ham) ... P(there|Ham) =  6.347977410574929e-23\n"
     ]
    }
   ],
   "source": [
    "mail = \"Sounds good, Tom, then see u there\"\n",
    "print(\"P(Ham|Sounds good, Tom, then see u there) = P(Ham) P(sounds|Ham) P(good|Ham) ... P(there|Ham) = \",  CalcolaProbHamDatoMail(mail,True))"
   ]
  },
  {
   "cell_type": "markdown",
   "metadata": {},
   "source": [
    "Calcoliamo la probabilità **P(Spam|mail)**\n",
    "ovvero la probabilità che la mail sia illeggittima "
   ]
  },
  {
   "cell_type": "code",
   "execution_count": 50,
   "metadata": {},
   "outputs": [
    {
     "name": "stdout",
     "output_type": "stream",
     "text": [
      "P(sounds|Spam) = 2.2089928097284045e-05\n",
      "P(good|Spam) = 0.00015462949668098832\n",
      "P(tom|Spam) = 0.0006185179867239533\n",
      "P(then|Spam) = 0.00011044964048642022\n",
      "P(see|Spam) = 0.00017671942477827236\n",
      "P(u|Spam) = 0.022266647522062314\n",
      "P(there|Spam) = 0.00015462949668098832\n",
      "P(Spam|Sounds good, Tom, then see u there) = P(Spam) P(sounds|Spam) P(good|Spam) ... P(there|Spam) =  1.91093509628003e-26\n"
     ]
    }
   ],
   "source": [
    "print(\"P(Spam|Sounds good, Tom, then see u there) = P(Spam) P(sounds|Spam) P(good|Spam) ... P(there|Spam) = \",  CalcolaProbSpamDatoMail(mail,True))"
   ]
  },
  {
   "cell_type": "markdown",
   "metadata": {},
   "source": [
    "<font size=\"6\" >Conlusione</font>\n",
    "<br>\n",
    "<br>\n",
    "Possiamo notare che:\n",
    "<br>\n",
    "<br>\n",
    "P(Ham|Sounds good, Tom, then see u there) > P(Spam|Sounds good, Tom, then see u there)\n",
    "<br> \n",
    "<br> \n",
    "**Dunque il calssificatore classificherà la mail come Ham**"
   ]
  },
  {
   "cell_type": "markdown",
   "metadata": {},
   "source": [
    "<br>\n",
    "<br>\n",
    "<font size=\"6\" >Prestazioni del modello sul test set</font>\n"
   ]
  },
  {
   "cell_type": "code",
   "execution_count": 51,
   "metadata": {},
   "outputs": [],
   "source": [
    "def classificaMail (mail):\n",
    "    probHam = CalcolaProbHamDatoMail(mail,False)\n",
    "    probSpam = CalcolaProbSpamDatoMail(mail,False)\n",
    "    \n",
    "    if (probHam>probSpam):\n",
    "        return \"ham\"\n",
    "    else:\n",
    "        return \"spam\""
   ]
  },
  {
   "cell_type": "code",
   "execution_count": 52,
   "metadata": {},
   "outputs": [
    {
     "name": "stdout",
     "output_type": "stream",
     "text": [
      "Totale mail classificate: 1114\n",
      "Numero mail classificate erroneamente: 61\n",
      "Numero mail classificate correttamente: 1053\n",
      "Accuratezza: 0.9452423698384201\n"
     ]
    }
   ],
   "source": [
    "numeroErrori = 0\n",
    "\n",
    "for index, row in test_set.iterrows():\n",
    "   actualLabel = row[0]\n",
    "   mail = row[1]\n",
    "   evaluatedLabel = classificaMail(mail)\n",
    "   if (actualLabel!=evaluatedLabel):\n",
    "      numeroErrori=numeroErrori+1\n",
    "\n",
    "print(\"Totale mail classificate:\", test_set.shape[0])\n",
    "print(\"Numero mail classificate erroneamente:\",numeroErrori)\n",
    "print(\"Numero mail classificate correttamente:\",test_set.shape[0] - numeroErrori)\n",
    "\n",
    "#                  numero elementi classificati correttamente\n",
    "# accuratezza =  -------------------------------------------\n",
    "#                  numero totale di elementi classificati\n",
    "\n",
    "print(\"Accuratezza:\",(test_set.shape[0] - numeroErrori)/test_set.shape[0])\n",
    "\n"
   ]
  }
 ],
 "metadata": {
  "kernelspec": {
   "display_name": "Python 3",
   "language": "python",
   "name": "python3"
  },
  "language_info": {
   "codemirror_mode": {
    "name": "ipython",
    "version": 3
   },
   "file_extension": ".py",
   "mimetype": "text/x-python",
   "name": "python",
   "nbconvert_exporter": "python",
   "pygments_lexer": "ipython3",
   "version": "3.11.0"
  },
  "orig_nbformat": 4
 },
 "nbformat": 4,
 "nbformat_minor": 2
}
